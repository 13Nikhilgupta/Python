{
 "cells": [
  {
   "cell_type": "markdown",
   "metadata": {},
   "source": [
    "# use of *arg and **kwarg"
   ]
  },
  {
   "cell_type": "code",
   "execution_count": 1,
   "metadata": {},
   "outputs": [
    {
     "name": "stdout",
     "output_type": "stream",
     "text": [
      "12\n",
      "152\n",
      "\n",
      "name : Nikhil\n",
      "lastName : Gupta\n",
      "age : 23\n"
     ]
    }
   ],
   "source": [
    "def func(*data1, **data2):\n",
    "    for i in data1:\n",
    "        print(i)\n",
    "    \n",
    "    print(\"\")\n",
    "\n",
    "    for i,j in data2.items():\n",
    "        print(i,\":\",j )\n",
    "\n",
    "func(12, 152, name=\"Nikhil\", lastName=\"Gupta\", age=\"23\")"
   ]
  },
  {
   "cell_type": "markdown",
   "metadata": {},
   "source": [
    "# Fibonacci seq."
   ]
  },
  {
   "cell_type": "code",
   "execution_count": 2,
   "metadata": {},
   "outputs": [
    {
     "name": "stdout",
     "output_type": "stream",
     "text": [
      "0 1 1 2 3 5 8 13 21 34 55 89 "
     ]
    }
   ],
   "source": [
    "def fib(n):\n",
    "\n",
    "    a=0\n",
    "    b=1\n",
    "\n",
    "    if n<0:\n",
    "        print(\"Please Enter positive number\")\n",
    "\n",
    "    else:\n",
    "        print(a,b,end=\" \")\n",
    "\n",
    "        c=a+b\n",
    "\n",
    "        while(c<=n):\n",
    "            print(c, end=\" \")\n",
    "            a=b\n",
    "            b=c\n",
    "            c=a+b\n",
    "\n",
    "fib(100)"
   ]
  },
  {
   "cell_type": "markdown",
   "metadata": {},
   "source": [
    "# Using lambda func. in filter, map and reduce func."
   ]
  },
  {
   "cell_type": "code",
   "execution_count": 3,
   "metadata": {},
   "outputs": [
    {
     "name": "stdout",
     "output_type": "stream",
     "text": [
      "[6, 4, 44, 32]\n",
      "[2, 6, 10, 12, 8, 18, 14, 46, 90, 134, 46, 88, 64, 102]\n",
      "320\n"
     ]
    }
   ],
   "source": [
    "from functools import reduce\n",
    "\n",
    "\n",
    "nums=[1,3,5,6,4,9,7,23,45,67,23,44,32,51]\n",
    "\n",
    "evens=list(filter(lambda n : n%2==0, nums))\n",
    "print(evens)\n",
    "\n",
    "doubles=list(map(lambda n : n*2, nums))\n",
    "print(doubles)\n",
    "\n",
    "sum=reduce(lambda a,b : a+b, nums)\n",
    "print(sum)"
   ]
  },
  {
   "cell_type": "markdown",
   "metadata": {},
   "source": [
    "# Decorator"
   ]
  },
  {
   "cell_type": "code",
   "execution_count": 4,
   "metadata": {},
   "outputs": [
    {
     "data": {
      "text/plain": [
       "1.25"
      ]
     },
     "execution_count": 4,
     "metadata": {},
     "output_type": "execute_result"
    }
   ],
   "source": [
    "def div(a,b):\n",
    "    return a/b\n",
    "\n",
    "def smart_div(div):\n",
    "    \"\"\"Here smart_div is a decorator func. which is used to add extra features to existing func. div\"\"\"\n",
    "\n",
    "    def inner(a,b):\n",
    "        if a<b:\n",
    "            a,b = b,a\n",
    "        \n",
    "        return div(a,b)\n",
    "    \n",
    "    return inner\n",
    "\n",
    "div = smart_div(div)\n",
    "div(4,5)"
   ]
  },
  {
   "cell_type": "markdown",
   "metadata": {},
   "source": [
    "# Operator overloading"
   ]
  },
  {
   "cell_type": "code",
   "execution_count": 5,
   "metadata": {},
   "outputs": [
    {
     "name": "stdout",
     "output_type": "stream",
     "text": [
      "m1 : 163 m2 : 151\n"
     ]
    }
   ],
   "source": [
    "class student:\n",
    "     def __init__(self,m1,m2):\n",
    "          self.m1=m1\n",
    "          self.m2=m2\n",
    "\n",
    "     def __add__(self,other):\n",
    "          \"\"\"by this we are overloading + so, we can add to objects\"\"\"\n",
    "          s1=self.m1 + other.m1\n",
    "          s2=self.m2 + other.m2\n",
    "\n",
    "          s3=student(s1,s2)\n",
    "\n",
    "          return s3\n",
    "     \n",
    "s1=student(89,75)\n",
    "s2=student(74,76)\n",
    "\n",
    "s3 = s1 + s2\n",
    "\n",
    "print('m1 : {} m2 : {}'.format(s3.m1,s3.m2))"
   ]
  },
  {
   "cell_type": "markdown",
   "metadata": {},
   "source": [
    "# Exception handling"
   ]
  },
  {
   "cell_type": "code",
   "execution_count": 13,
   "metadata": {},
   "outputs": [
    {
     "name": "stdout",
     "output_type": "stream",
     "text": [
      "File opened\n",
      "2.5\n",
      "Please enter an Integer value\n",
      "File Closed\n"
     ]
    }
   ],
   "source": [
    "a=5\n",
    "b=2\n",
    "\n",
    "try:\n",
    "    print(\"File opened\")\n",
    "    print(a/b)\n",
    "    n=int(input(\"Enter a value\"))\n",
    "    print(n)\n",
    "\n",
    "except ZeroDivisionError:\n",
    "    print(\"Cannot divide a no. by zero\")\n",
    "\n",
    "except ValueError:\n",
    "    print(\"Please enter an Integer value\")\n",
    "\n",
    "finally:\n",
    "    print(\"File Closed\")"
   ]
  }
 ],
 "metadata": {
  "kernelspec": {
   "display_name": "Python 3",
   "language": "python",
   "name": "python3"
  },
  "language_info": {
   "codemirror_mode": {
    "name": "ipython",
    "version": 3
   },
   "file_extension": ".py",
   "mimetype": "text/x-python",
   "name": "python",
   "nbconvert_exporter": "python",
   "pygments_lexer": "ipython3",
   "version": "3.11.0"
  }
 },
 "nbformat": 4,
 "nbformat_minor": 2
}
