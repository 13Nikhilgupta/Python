{
 "cells": [
  {
   "cell_type": "markdown",
   "metadata": {},
   "source": [
    "# Tree Implementation"
   ]
  },
  {
   "cell_type": "code",
   "execution_count": 9,
   "metadata": {},
   "outputs": [
    {
     "name": "stdout",
     "output_type": "stream",
     "text": [
      "  I/O Device\n",
      "   !--> Input Device\n",
      "      !--> Keyboard\n",
      "      !--> Mouse\n",
      "      !--> Scanner\n",
      "   !--> Output Device\n",
      "      !--> Monitor\n",
      "      !--> Speaker\n",
      "      !--> Printer\n"
     ]
    }
   ],
   "source": [
    "class Node:\n",
    "    def __init__(self,data):\n",
    "        self.data=data\n",
    "        self.children=[]\n",
    "        self.parent=None\n",
    "\n",
    "    def add_child(self,child):\n",
    "        self.children.append(child)\n",
    "        child.parent=self\n",
    "\n",
    "    def level(self):\n",
    "        lvl=0\n",
    "        p=self.parent\n",
    "        while p:\n",
    "            lvl+=1\n",
    "            p=p.parent\n",
    "\n",
    "        return lvl\n",
    "\n",
    "    def print_tree(self):\n",
    "        space=\" \"*self.level()*3\n",
    "        pre=space+\"!-->\" if self.parent else \" \"\n",
    "        print(pre,self.data)\n",
    "        for i in self.children:\n",
    "            i.print_tree()\n",
    "\n",
    "\n",
    "def build_tree():\n",
    "    root=Node(\"I/O Device\")\n",
    "    \n",
    "    i=Node(\"Input Device\")\n",
    "    key=Node(\"Keyboard\")\n",
    "    mouse=Node(\"Mouse\")\n",
    "    scan=Node(\"Scanner\")\n",
    "    \n",
    "    i.add_child(key)\n",
    "    i.add_child(mouse)\n",
    "    i.add_child(scan)\n",
    "    \n",
    "    o=Node(\"Output Device\")\n",
    "    scrn=Node(\"Monitor\")\n",
    "    sound=Node(\"Speaker\")\n",
    "    printer=Node(\"Printer\")\n",
    "    \n",
    "    o.add_child(scrn)\n",
    "    o.add_child(sound)\n",
    "    o.add_child(printer)\n",
    "    \n",
    "    root.add_child(i)\n",
    "    root.add_child(o)\n",
    "\n",
    "    root.print_tree()\n",
    "\n",
    "    return root\n",
    "\n",
    "\n",
    "if __name__=='__main__':\n",
    "    root=build_tree()"
   ]
  }
 ],
 "metadata": {
  "kernelspec": {
   "display_name": "Python 3.8.10 64-bit",
   "language": "python",
   "name": "python3"
  },
  "language_info": {
   "codemirror_mode": {
    "name": "ipython",
    "version": 3
   },
   "file_extension": ".py",
   "mimetype": "text/x-python",
   "name": "python",
   "nbconvert_exporter": "python",
   "pygments_lexer": "ipython3",
   "version": "3.8.10"
  },
  "orig_nbformat": 4,
  "vscode": {
   "interpreter": {
    "hash": "494deeb4eea7fb63b62f74ba02ace728543e0003fbb675bfec79f4f4980c3f04"
   }
  }
 },
 "nbformat": 4,
 "nbformat_minor": 2
}
