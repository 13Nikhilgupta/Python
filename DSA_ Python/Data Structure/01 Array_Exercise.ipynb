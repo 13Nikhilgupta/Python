{
 "cells": [
  {
   "cell_type": "markdown",
   "metadata": {},
   "source": [
    "#                     Array Exercise"
   ]
  },
  {
   "cell_type": "markdown",
   "metadata": {},
   "source": [
    "# Question-1\n",
    "Let us say your"
   ]
  },
  {
   "cell_type": "code",
   "execution_count": 18,
   "metadata": {},
   "outputs": [
    {
     "name": "stdout",
     "output_type": "stream",
     "text": [
      "Extra expense in FEB as compared to JAN : 150\n",
      "Total Expense done is first quater of Year : 7150\n",
      "Spent exactly 2000$ in any Month ? False\n",
      "After adding JUN expenses, Now the array is : [2200, 2350, 2600, 2130, 2190, 1980]\n",
      "After getting refund of 200$ of APR, Now the Array is : [2200, 2350, 2600, 1930, 2190, 1980]\n"
     ]
    }
   ],
   "source": [
    "# Creating list of name \"exp\" for storing monthly expenses as Array\n",
    "exp=[2200,2350,2600,2130,2190]\n",
    "\n",
    "# Answer 1\n",
    "print(\"Extra expense in FEB as compared to JAN :\",exp[1]-exp[0])\n",
    "\n",
    "# Answer 2\n",
    "print(\"Total Expense done is first quater of Year :\", exp[0]+exp[1]+exp[2])\n",
    "\n",
    "# Answer 3\n",
    "print(\"Spent exactly 2000$ in any Month ?\",2000 in exp)\n",
    "\n",
    "# Answer 4\n",
    "exp.insert(5,1980)       # or u can use \n",
    "#exp.append(1980)\n",
    "print(\"After adding JUN expenses, Now the array is :\", exp)\n",
    "\n",
    "# Answer 5\n",
    "exp[3]=exp[3]-200\n",
    "print(\"After getting refund of 200$ of APR, Now the Array is :\", exp)"
   ]
  },
  {
   "cell_type": "markdown",
   "metadata": {},
   "source": [
    "# Question-2\n",
    "You have list "
   ]
  },
  {
   "cell_type": "code",
   "execution_count": 27,
   "metadata": {},
   "outputs": [
    {
     "name": "stdout",
     "output_type": "stream",
     "text": [
      "No. of Heros in Array is : 5\n",
      "After adding 'Black Panther' at end, the Array is : ['Spider Man', 'Thor', 'Hulk', 'Iron Man', 'Captian America', 'Black Panther']\n",
      "After adding 'Black Panther' after 'Hulk', the Array is : ['Spider Man', 'Thor', 'Hulk', 'Black Panther', 'Iron Man', 'Captian America']\n",
      "After replacing 'Thor' and 'Hulk' with 'Docter Strange', the Array is : ['Spider Man', 'Docter Strange', 'Black Panther', 'Iron Man', 'Captian America']\n",
      "After Sorting current Array we get : ['Black Panther', 'Captian America', 'Docter Strange', 'Iron Man', 'Spider Man']\n"
     ]
    }
   ],
   "source": [
    "Marvel=['Spider Man','Thor','Hulk','Iron Man','Captian America']       #Given Array of 5 Marvel Heroes\n",
    "\n",
    "# Answer 1\n",
    "print(\"No. of Heros in Array is :\", len(Marvel))\n",
    "\n",
    "# Answer 2\n",
    "Marvel.insert(5,\"Black Panther\")       # or u can use \n",
    "#Marvel.append('Black Panther)\n",
    "print(\"After adding 'Black Panther' at end, the Array is :\", Marvel)\n",
    "\n",
    "# Answer 3\n",
    "del Marvel[5]                          # or u can use\n",
    "#Marvel.remove(\"Black Panther\") \n",
    "Marvel.insert(3,\"Black Panther\")\n",
    "print(\"After adding 'Black Panther' after 'Hulk', the Array is :\", Marvel) \n",
    "\n",
    "# Answer 4\n",
    "Marvel[1:3]=['Docter Strange']\n",
    "print(\"After replacing 'Thor' and 'Hulk' with 'Docter Strange', the Array is :\", Marvel) \n",
    "\n",
    "# Answer 5\n",
    "Marvel.sort()\n",
    "print(\"After Sorting current Array we get :\", Marvel)              "
   ]
  },
  {
   "cell_type": "markdown",
   "metadata": {},
   "source": [
    "# Question-3\n",
    "Create a list of "
   ]
  },
  {
   "cell_type": "code",
   "execution_count": 23,
   "metadata": {},
   "outputs": [
    {
     "name": "stdout",
     "output_type": "stream",
     "text": [
      "Required Array is : [1, 3, 5, 7, 9, 11, 13, 15, 17, 19, 21, 23, 25, 27]\n"
     ]
    }
   ],
   "source": [
    "#Created Variable 'max' to input a value from user\n",
    "max=int(input(\"Enter Maximum No. till which you want odd no. in your Array\"))\n",
    "\n",
    "#Created an Empty List(Array) name \"Odd\" which will hold all odd no. till max\n",
    "Odd=[]\n",
    "\n",
    "#Traverse no. ranging '1 to max' using for loop and range()\n",
    "for i in range(1,max+1):\n",
    "    if i%2==1:          #if 'i' will be odd then\n",
    "        Odd.append(i)   #Added to Array 'Odd[]'\n",
    "print(\"Required Array is :\",Odd)"
   ]
  }
 ],
 "metadata": {
  "kernelspec": {
   "display_name": "Python 3.8.10 64-bit",
   "language": "python",
   "name": "python3"
  },
  "language_info": {
   "codemirror_mode": {
    "name": "ipython",
    "version": 3
   },
   "file_extension": ".py",
   "mimetype": "text/x-python",
   "name": "python",
   "nbconvert_exporter": "python",
   "pygments_lexer": "ipython3",
   "version": "3.8.10"
  },
  "orig_nbformat": 4,
  "vscode": {
   "interpreter": {
    "hash": "494deeb4eea7fb63b62f74ba02ace728543e0003fbb675bfec79f4f4980c3f04"
   }
  }
 },
 "nbformat": 4,
 "nbformat_minor": 2
}
