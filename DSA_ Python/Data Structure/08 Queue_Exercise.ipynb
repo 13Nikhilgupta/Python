{
 "cells": [
  {
   "cell_type": "markdown",
   "metadata": {},
   "source": [
    "# Queue Exercise"
   ]
  },
  {
   "cell_type": "markdown",
   "metadata": {},
   "source": [
    "# Question-1"
   ]
  },
  {
   "cell_type": "code",
   "execution_count": 15,
   "metadata": {},
   "outputs": [
    {
     "name": "stdout",
     "output_type": "stream",
     "text": [
      "pizza\n",
      "samosa\n",
      "pasta\n",
      "biryani\n",
      "burger\n"
     ]
    }
   ],
   "source": [
    "from collections import deque\n",
    "from threading import *\n",
    "import time\n",
    "\n",
    "\n",
    "class queue:\n",
    "    def __init__(self):\n",
    "        self.ql=deque()\n",
    "\n",
    "    def enqueue(self,value):\n",
    "        for i in value:\n",
    "             self.ql.appendleft(i)\n",
    "             time.sleep(0.5)\n",
    "\n",
    "    def dequeue(self):\n",
    "        while len(self.ql):\n",
    "             print(self.ql.pop())\n",
    "             time.sleep(2)\n",
    "\n",
    "os=queue()\n",
    "order1=['pizza','samosa','pasta','biryani','burger']\n",
    "order2=['tunde kabab','fried rice','noodles','colddrink']\n",
    "t1=Thread(target=os.enqueue,args=(order1,))\n",
    "t2=Thread(target=os.dequeue)\n",
    "\n",
    "t1.start()\n",
    "time.sleep(1)\n",
    "t2.start()\n",
    "\n",
    "t1.join()\n",
    "t2.join()"
   ]
  },
  {
   "cell_type": "markdown",
   "metadata": {},
   "source": [
    "# Question-2"
   ]
  },
  {
   "cell_type": "markdown",
   "metadata": {},
   "source": [
    "### Creating binary() using bin()"
   ]
  },
  {
   "cell_type": "code",
   "execution_count": 31,
   "metadata": {},
   "outputs": [
    {
     "name": "stdout",
     "output_type": "stream",
     "text": [
      "0b1  \n",
      "0b10  \n",
      "0b11  \n",
      "0b100  \n",
      "0b101  \n",
      "0b110  \n",
      "0b111  \n",
      "0b1000  \n",
      "0b1001  \n",
      "0b1010  \n"
     ]
    }
   ],
   "source": [
    "from collections import deque\n",
    "\n",
    "\n",
    "class queue:\n",
    "    def __init__(self):\n",
    "        self.ql=deque()\n",
    "\n",
    "    def enqueue(self,value):\n",
    "        self.ql.appendleft(value)\n",
    "\n",
    "    def dequeue(self):\n",
    "        return self.ql.pop()\n",
    "\n",
    "    def front(self):\n",
    "        return self.ql[-1]\n",
    "\n",
    "def binary(n):\n",
    "    bn=queue()\n",
    "    for i in range(1,n+1):\n",
    "        bn.enqueue(bin(i))\n",
    "\n",
    "    for i in range(n):\n",
    "        print(bn.front(),\" \")\n",
    "        bn.dequeue()\n",
    "\n",
    "binary(10)"
   ]
  },
  {
   "cell_type": "markdown",
   "metadata": {},
   "source": [
    "### Creating binary() using special pattern binary no. follows\n",
    "'1' ,\n",
    "then '1'+'0' and '1'+'1' ,\n",
    "then  '10'+'0' and '10'+'1'\n",
    "and so on"
   ]
  },
  {
   "cell_type": "code",
   "execution_count": 30,
   "metadata": {},
   "outputs": [
    {
     "name": "stdout",
     "output_type": "stream",
     "text": [
      "1\n",
      "10\n",
      "11\n",
      "100\n",
      "101\n",
      "110\n",
      "111\n",
      "1000\n",
      "1001\n",
      "1010\n"
     ]
    }
   ],
   "source": [
    "def binary(n):\n",
    "    bn_arr=[]\n",
    "    bn=queue()\n",
    "    bn.enqueue('1')\n",
    "    for i in range(n):\n",
    "        front=bn.front()\n",
    "        bn.enqueue(front+'0')\n",
    "        bn.enqueue(front+'1')\n",
    "\n",
    "        bn_arr.append(bn.dequeue())\n",
    "    \n",
    "    for i in range(n):\n",
    "        print(bn_arr[i])\n",
    "\n",
    "binary(10)\n",
    "        "
   ]
  }
 ],
 "metadata": {
  "kernelspec": {
   "display_name": "Python 3.8.10 64-bit",
   "language": "python",
   "name": "python3"
  },
  "language_info": {
   "codemirror_mode": {
    "name": "ipython",
    "version": 3
   },
   "file_extension": ".py",
   "mimetype": "text/x-python",
   "name": "python",
   "nbconvert_exporter": "python",
   "pygments_lexer": "ipython3",
   "version": "3.8.10"
  },
  "orig_nbformat": 4,
  "vscode": {
   "interpreter": {
    "hash": "494deeb4eea7fb63b62f74ba02ace728543e0003fbb675bfec79f4f4980c3f04"
   }
  }
 },
 "nbformat": 4,
 "nbformat_minor": 2
}
