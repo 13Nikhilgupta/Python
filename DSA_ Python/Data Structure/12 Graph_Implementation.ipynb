{
 "cells": [
  {
   "cell_type": "markdown",
   "metadata": {},
   "source": [
    "# Graph Implementation "
   ]
  },
  {
   "cell_type": "code",
   "execution_count": 13,
   "metadata": {},
   "outputs": [
    {
     "name": "stdout",
     "output_type": "stream",
     "text": [
      "[['Mumbai', 'Paris', 'Dubai', 'New York'], ['Mumbai', 'Paris', 'New York'], ['Mumbai', 'Dubai', 'New York']]\n",
      "['Mumbai', 'Paris', 'New York']\n"
     ]
    }
   ],
   "source": [
    "class Graph:\n",
    "    def __init__(self,edges):\n",
    "        self.edges=edges\n",
    "        self.route_dic={}\n",
    "        for start,end in edges:\n",
    "            if start in self.route_dic:\n",
    "                self.route_dic[start].append(end)\n",
    "            else:\n",
    "                self.route_dic[start]=[end]\n",
    "        #print(\"Routes are \",self.route_dic)\n",
    "    \n",
    "    def get_path(self,start,end,path=[]):\n",
    "        path=path+[start]\n",
    "\n",
    "        if start==end:\n",
    "            return [path]\n",
    "\n",
    "        if start not in self.route_dic:\n",
    "            return(f\"No flight from {start} to {end}\")\n",
    "        \n",
    "        paths=[]\n",
    "        for destin in self.route_dic[start]:\n",
    "            if destin not in path:\n",
    "                new_path=self.get_path(destin,end,path)\n",
    "                for p in new_path:\n",
    "                    paths.append(p)\n",
    "                \n",
    "        return paths\n",
    "\n",
    "    def shortest_path(self,start,end,path=[]):\n",
    "         path=path+[start]\n",
    "\n",
    "         if start==end:\n",
    "            return path\n",
    "\n",
    "         if start not in self.route_dic:\n",
    "            return None\n",
    "        \n",
    "         Shortest_path=None\n",
    "         for destin in self.route_dic[start]:\n",
    "            if destin not in path:\n",
    "                sp=self.shortest_path(destin,end,path)\n",
    "                if sp:\n",
    "                    if Shortest_path is None or len(sp)<len(Shortest_path):\n",
    "                        Shortest_path=sp\n",
    "\n",
    "         return Shortest_path\n",
    "\n",
    "\n",
    "if __name__=='__main__':\n",
    "    route=[(\"Mumbai\",\"Paris\"),(\"Mumbai\",\"Dubai\"),(\"Paris\",\"Dubai\"),(\"Paris\",\"New York\"),(\"Dubai\",\"New York\"),(\"New York\",\"Toronto\")]\n",
    "    route_graph=Graph(route)\n",
    "\n",
    "    print(route_graph.get_path(\"Mumbai\",\"New York\"))\n",
    "    print(route_graph.shortest_path(\"Mumbai\",\"New York\"))"
   ]
  }
 ],
 "metadata": {
  "kernelspec": {
   "display_name": "Python 3.8.10 64-bit",
   "language": "python",
   "name": "python3"
  },
  "language_info": {
   "name": "python",
   "version": "3.8.10"
  },
  "orig_nbformat": 4,
  "vscode": {
   "interpreter": {
    "hash": "494deeb4eea7fb63b62f74ba02ace728543e0003fbb675bfec79f4f4980c3f04"
   }
  }
 },
 "nbformat": 4,
 "nbformat_minor": 2
}
