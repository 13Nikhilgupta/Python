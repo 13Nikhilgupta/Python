{
 "cells": [
  {
   "cell_type": "markdown",
   "metadata": {},
   "source": [
    "# Stack Exercise"
   ]
  },
  {
   "cell_type": "markdown",
   "metadata": {},
   "source": [
    "# Question-1"
   ]
  },
  {
   "cell_type": "code",
   "execution_count": 4,
   "metadata": {},
   "outputs": [
    {
     "name": "stdout",
     "output_type": "stream",
     "text": [
      "boJ detatuper a teg ot em pleh lliw hcihw ,sllikS wen etareneg ot tseb ym gniyrt ma I"
     ]
    }
   ],
   "source": [
    "from collections import deque\n",
    "\n",
    "\n",
    "class stack:\n",
    "    def __init__(self):\n",
    "        self.stck=deque()\n",
    "\n",
    "    def push(self,value):\n",
    "        self.stck.append(value)\n",
    "\n",
    "    def pop(self):\n",
    "        return self.stck.pop()\n",
    "\n",
    "    def peek(self):\n",
    "        return self.stck[-1]\n",
    "    \n",
    "    # Answer\n",
    "    def reverse_string(self,string):\n",
    "        for i in string:\n",
    "            self.push(i)\n",
    "        for i in range(len(string)):\n",
    "            print(self.pop(),end=\"\")\n",
    "\n",
    "s=stack()\n",
    "s.reverse_string(\"I am trying my best to generate new Skills, which will help me to get a reputated Job\")"
   ]
  },
  {
   "cell_type": "markdown",
   "metadata": {},
   "source": [
    "# Question-2"
   ]
  },
  {
   "cell_type": "code",
   "execution_count": 5,
   "metadata": {},
   "outputs": [
    {
     "data": {
      "text/plain": [
       "True"
      ]
     },
     "execution_count": 5,
     "metadata": {},
     "output_type": "execute_result"
    }
   ],
   "source": [
    "class stack:\n",
    "    def __init__(self):\n",
    "        self.stck=deque()\n",
    "\n",
    "    def push(self,value):\n",
    "        self.stck.append(value)\n",
    "\n",
    "    def pop(self):\n",
    "        return self.stck.pop()\n",
    "\n",
    "    def peek(self):\n",
    "        return self.stck[-1]\n",
    "\n",
    "    # Answer\n",
    "    def is_balance(self,string):\n",
    "        for i in string:\n",
    "            self.push(i)\n",
    "        count=0\n",
    "        for i in range(len(string)):\n",
    "            t=self.pop()\n",
    "            if t==')' or t==']' or t=='}':\n",
    "                count+=1\n",
    "            elif t=='(' or t=='[' or t=='{':\n",
    "                count-=1\n",
    "                if count<0:\n",
    "                    break\n",
    "            else:\n",
    "                continue\n",
    "        \n",
    "        return count==0\n",
    "\n",
    "s=stack()\n",
    "s.is_balance(\"({a+b})\")"
   ]
  },
  {
   "cell_type": "code",
   "execution_count": 6,
   "metadata": {},
   "outputs": [
    {
     "data": {
      "text/plain": [
       "False"
      ]
     },
     "execution_count": 6,
     "metadata": {},
     "output_type": "execute_result"
    }
   ],
   "source": [
    "s.is_balance(\"))((a+b}{\")"
   ]
  },
  {
   "cell_type": "code",
   "execution_count": 7,
   "metadata": {},
   "outputs": [
    {
     "data": {
      "text/plain": [
       "True"
      ]
     },
     "execution_count": 7,
     "metadata": {},
     "output_type": "execute_result"
    }
   ],
   "source": [
    "s.is_balance(\"((a+b))\")"
   ]
  },
  {
   "cell_type": "code",
   "execution_count": 8,
   "metadata": {},
   "outputs": [
    {
     "data": {
      "text/plain": [
       "False"
      ]
     },
     "execution_count": 8,
     "metadata": {},
     "output_type": "execute_result"
    }
   ],
   "source": [
    "s.is_balance(\"))\")"
   ]
  },
  {
   "cell_type": "code",
   "execution_count": 9,
   "metadata": {},
   "outputs": [
    {
     "data": {
      "text/plain": [
       "True"
      ]
     },
     "execution_count": 9,
     "metadata": {},
     "output_type": "execute_result"
    }
   ],
   "source": [
    "s.is_balance(\"[a+b]*{x+2y}*{gg+kk}\")"
   ]
  }
 ],
 "metadata": {
  "kernelspec": {
   "display_name": "Python 3.8.10 64-bit",
   "language": "python",
   "name": "python3"
  },
  "language_info": {
   "codemirror_mode": {
    "name": "ipython",
    "version": 3
   },
   "file_extension": ".py",
   "mimetype": "text/x-python",
   "name": "python",
   "nbconvert_exporter": "python",
   "pygments_lexer": "ipython3",
   "version": "3.8.10"
  },
  "orig_nbformat": 4,
  "vscode": {
   "interpreter": {
    "hash": "494deeb4eea7fb63b62f74ba02ace728543e0003fbb675bfec79f4f4980c3f04"
   }
  }
 },
 "nbformat": 4,
 "nbformat_minor": 2
}
