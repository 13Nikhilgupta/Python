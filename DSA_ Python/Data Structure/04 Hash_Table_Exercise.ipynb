{
 "cells": [
  {
   "cell_type": "markdown",
   "metadata": {},
   "source": [
    "# Hash Table Exercise"
   ]
  },
  {
   "cell_type": "markdown",
   "metadata": {},
   "source": [
    "# Question-1"
   ]
  },
  {
   "cell_type": "code",
   "execution_count": 13,
   "metadata": {},
   "outputs": [
    {
     "name": "stdout",
     "output_type": "stream",
     "text": [
      "Average Temperature in First Week of January : 31\n",
      "Maximum Temperature in First 10 days of January : 38\n"
     ]
    }
   ],
   "source": [
    "temp=[]\n",
    "with open(\"nyc_weather.csv\",\"r\") as f:\n",
    "    for i in f:\n",
    "        token=i.split(',')\n",
    "        try:\n",
    "            t=int(token[1])\n",
    "            temp.append(t)\n",
    "        except:\n",
    "            continue\n",
    "\n",
    "avg_fw=int(sum(temp[0:7])/7)\n",
    "print(\"Average Temperature in First Week of January :\", avg_fw)\n",
    "\n",
    "max_td=max(temp[0:7])\n",
    "print(\"Maximum Temperature in First 10 days of January :\",max_td)"
   ]
  },
  {
   "cell_type": "markdown",
   "metadata": {},
   "source": [
    "# Question-2"
   ]
  },
  {
   "cell_type": "code",
   "execution_count": 16,
   "metadata": {},
   "outputs": [
    {
     "name": "stdout",
     "output_type": "stream",
     "text": [
      "temperature on jan 9 : 35\n",
      "temperature on jan 4 : 34\n"
     ]
    }
   ],
   "source": [
    "temperature={}\n",
    "with open(\"nyc_weather.csv\",\"r\") as f:\n",
    "    for i in f:\n",
    "        token=i.split(',')\n",
    "        day=token[0]\n",
    "        try:\n",
    "            temp=int(token[1])\n",
    "        except:\n",
    "            continue\n",
    "        temperature[day]=temp\n",
    "\n",
    "print(\"temperature on jan 9 :\", temperature['Jan 9'])\n",
    "print(\"temperature on jan 4 :\", temperature['Jan 4'])"
   ]
  },
  {
   "cell_type": "markdown",
   "metadata": {},
   "source": [
    "# Question-3"
   ]
  },
  {
   "cell_type": "code",
   "execution_count": 35,
   "metadata": {},
   "outputs": [
    {
     "data": {
      "text/plain": [
       "{'Two': 2,\n",
       " 'roads': 2,\n",
       " 'diverged': 2,\n",
       " 'in': 3,\n",
       " 'a': 3,\n",
       " 'yellow': 1,\n",
       " 'wood': 2,\n",
       " 'And': 6,\n",
       " 'sorry': 1,\n",
       " 'I': 8,\n",
       " 'could': 2,\n",
       " 'not': 1,\n",
       " 'travel': 1,\n",
       " 'both': 2,\n",
       " 'be': 2,\n",
       " 'one': 3,\n",
       " 'traveler': 1,\n",
       " 'long': 1,\n",
       " 'stood': 1,\n",
       " 'looked': 1,\n",
       " 'down': 1,\n",
       " 'as': 5,\n",
       " 'far': 1,\n",
       " 'To': 1,\n",
       " 'where': 1,\n",
       " 'it': 2,\n",
       " 'bent': 1,\n",
       " 'the': 8,\n",
       " 'undergrowth': 1,\n",
       " '': 3,\n",
       " 'Then': 1,\n",
       " 'took': 2,\n",
       " 'other': 1,\n",
       " 'just': 1,\n",
       " 'fair': 1,\n",
       " 'having': 1,\n",
       " 'perhaps': 1,\n",
       " 'better': 1,\n",
       " 'claim': 1,\n",
       " 'Because': 1,\n",
       " 'was': 1,\n",
       " 'grassy': 1,\n",
       " 'and': 3,\n",
       " 'wanted': 1,\n",
       " 'wear': 1,\n",
       " 'Though': 1,\n",
       " 'for': 2,\n",
       " 'that': 3,\n",
       " 'passing': 1,\n",
       " 'there': 1,\n",
       " 'Had': 1,\n",
       " 'worn': 1,\n",
       " 'them': 1,\n",
       " 'really': 1,\n",
       " 'about': 1,\n",
       " 'same': 1,\n",
       " 'morning': 1,\n",
       " 'equally': 1,\n",
       " 'lay': 1,\n",
       " 'In': 1,\n",
       " 'leaves': 1,\n",
       " 'no': 1,\n",
       " 'step': 1,\n",
       " 'had': 1,\n",
       " 'trodden': 1,\n",
       " 'black.': 1,\n",
       " 'Oh': 1,\n",
       " 'kept': 1,\n",
       " 'first': 1,\n",
       " 'another': 1,\n",
       " 'day': 1,\n",
       " 'Yet': 1,\n",
       " 'knowing': 1,\n",
       " 'how': 1,\n",
       " 'way': 2,\n",
       " 'leads': 1,\n",
       " 'on': 1,\n",
       " 'to': 1,\n",
       " 'doubted': 1,\n",
       " 'if': 1,\n",
       " 'should': 1,\n",
       " 'ever': 1,\n",
       " 'come': 1,\n",
       " 'back.': 1,\n",
       " 'shall': 1,\n",
       " 'telling': 1,\n",
       " 'this': 1,\n",
       " 'with': 1,\n",
       " 'sigh': 1,\n",
       " 'Somewhere': 1,\n",
       " 'ages': 2,\n",
       " 'hence': 1,\n",
       " 'Iâ€”': 1,\n",
       " 'less': 1,\n",
       " 'traveled': 1,\n",
       " 'by': 1,\n",
       " 'has': 1,\n",
       " 'made': 1,\n",
       " 'all': 1,\n",
       " 'difference.': 1}"
      ]
     },
     "execution_count": 35,
     "metadata": {},
     "output_type": "execute_result"
    }
   ],
   "source": [
    "wrds=[]\n",
    "wrds_dic={}\n",
    "with open(\"poem.txt\",\"r\") as f:\n",
    "    for i in f:\n",
    "        line=i.split(' ')\n",
    "        for word in line:\n",
    "            word=word.replace('\\n','')\n",
    "            word=word.replace(',','')\n",
    "            word=word.replace(';','')\n",
    "            word=word.replace(':','')\n",
    "            word=word.replace('!','')\n",
    "            wrds.append(word)\n",
    "\n",
    "for i in wrds:\n",
    "    if i in wrds_dic:\n",
    "        wrds_dic[i]+=1\n",
    "    else:\n",
    "        wrds_dic[i]=1\n",
    "\n",
    "wrds_dic"
   ]
  },
  {
   "cell_type": "markdown",
   "metadata": {},
   "source": [
    "# Question-4"
   ]
  },
  {
   "cell_type": "code",
   "execution_count": 8,
   "metadata": {},
   "outputs": [
    {
     "data": {
      "text/plain": [
       "[('march 17', 47),\n",
       " ('march 26', 567),\n",
       " None,\n",
       " None,\n",
       " None,\n",
       " None,\n",
       " None,\n",
       " None,\n",
       " None,\n",
       " ('march 6', 203)]"
      ]
     },
     "execution_count": 8,
     "metadata": {},
     "output_type": "execute_result"
    }
   ],
   "source": [
    "class hash_table:\n",
    "    def __init__(self):\n",
    "        self.max=10\n",
    "        self.arr=[None for i in range(self.max)]\n",
    "    \n",
    "    def get_hash(self,key):\n",
    "        h=0\n",
    "        for i in key:\n",
    "            h+=ord(i)\n",
    "        return h%self.max\n",
    "\n",
    "    def __setitem__(self,key,value):\n",
    "        h=self.get_hash(key)\n",
    "        if self.arr[h]==None:\n",
    "            self.arr[h]=(key,value)\n",
    "        \n",
    "        else:\n",
    "            for i in range(self.max):\n",
    "                nl=(h+i)%self.max\n",
    "                if self.arr[nl]==None:\n",
    "                    self.arr[nl]=(key,value)\n",
    "                    break\n",
    "                \n",
    "            else:\n",
    "                print(\"Hash Table is Full\")\n",
    "\n",
    "    def __getitem__(self,key):\n",
    "        h=self.get_hash(key)\n",
    "        if self.arr[h][0]==key:\n",
    "            return self.arr[h][1]\n",
    "        \n",
    "        else:\n",
    "            for i in range(self.max):\n",
    "                nl=(h+i)%self.max\n",
    "                if self.arr[nl][0]==key:\n",
    "                    return self.arr[nl][1]\n",
    "                \n",
    "            else:\n",
    "                print(\"Item not present in hash Table\")\n",
    "        \n",
    "\n",
    "    def __delitem__(self,key):\n",
    "        h=self.get_hash(key)\n",
    "        if self.arr[h][0]==key:\n",
    "            self.arr[h]=None\n",
    "        \n",
    "        else:\n",
    "            for i in range(self.max):\n",
    "                nl=(h+i)%self.max\n",
    "                if self.arr[nl][0]==key:\n",
    "                    self.arr[nl]=None\n",
    "                    break\n",
    "\n",
    "ht=hash_table()\n",
    "ht[\"march 6\"]=203\n",
    "ht[\"march 17\"]=47\n",
    "ht[\"march 26\"]=567\n",
    "ht.arr"
   ]
  },
  {
   "cell_type": "code",
   "execution_count": 9,
   "metadata": {},
   "outputs": [
    {
     "data": {
      "text/plain": [
       "567"
      ]
     },
     "execution_count": 9,
     "metadata": {},
     "output_type": "execute_result"
    }
   ],
   "source": [
    "ht[\"march 26\"]"
   ]
  },
  {
   "cell_type": "code",
   "execution_count": 10,
   "metadata": {},
   "outputs": [
    {
     "data": {
      "text/plain": [
       "[None,\n",
       " ('march 26', 567),\n",
       " None,\n",
       " None,\n",
       " None,\n",
       " None,\n",
       " None,\n",
       " None,\n",
       " None,\n",
       " ('march 6', 203)]"
      ]
     },
     "execution_count": 10,
     "metadata": {},
     "output_type": "execute_result"
    }
   ],
   "source": [
    "del ht[\"march 17\"]\n",
    "ht.arr"
   ]
  }
 ],
 "metadata": {
  "kernelspec": {
   "display_name": "Python 3.8.10 64-bit",
   "language": "python",
   "name": "python3"
  },
  "language_info": {
   "codemirror_mode": {
    "name": "ipython",
    "version": 3
   },
   "file_extension": ".py",
   "mimetype": "text/x-python",
   "name": "python",
   "nbconvert_exporter": "python",
   "pygments_lexer": "ipython3",
   "version": "3.8.10"
  },
  "orig_nbformat": 4,
  "vscode": {
   "interpreter": {
    "hash": "494deeb4eea7fb63b62f74ba02ace728543e0003fbb675bfec79f4f4980c3f04"
   }
  }
 },
 "nbformat": 4,
 "nbformat_minor": 2
}
