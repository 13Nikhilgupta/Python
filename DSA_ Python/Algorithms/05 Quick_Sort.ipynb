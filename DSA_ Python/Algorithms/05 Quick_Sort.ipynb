{
 "cells": [
  {
   "cell_type": "markdown",
   "metadata": {},
   "source": [
    "# Quick Sort Implementation"
   ]
  },
  {
   "cell_type": "code",
   "execution_count": 20,
   "metadata": {},
   "outputs": [
    {
     "name": "stdout",
     "output_type": "stream",
     "text": [
      "sorted list is: [1, 2, 3, 4, 7, 13, 23, 27, 45, 65, 75, 87]\n"
     ]
    }
   ],
   "source": [
    "def Hoare_Partition(list,start,end):\n",
    "    pivot=start\n",
    "    while start<end:\n",
    "        while list[pivot]>=list[start]:\n",
    "            start+=1\n",
    "        while list[pivot]<list[end]:\n",
    "            end-=1\n",
    "\n",
    "        if start<end:\n",
    "            list[start],list[end]=list[end],list[start]\n",
    "\n",
    "    list[end],list[pivot]=list[pivot],list[end]\n",
    "\n",
    "    return end\n",
    "\n",
    "def Quick_sort(list,start,end):\n",
    "    if start<end:\n",
    "        PI=Hoare_Partition(list,start,end)\n",
    "        Quick_sort(list,start,PI-1)\n",
    "        Quick_sort(list,PI+1,end)\n",
    "    \n",
    "    return list\n",
    "\n",
    "if __name__=='__main__':\n",
    "    list=[1,4,2,45,7,3,87,23,65,75,13,27]\n",
    "\n",
    "    print(\"sorted list is:\",Quick_sort(list,0,len(list)-1))"
   ]
  },
  {
   "cell_type": "markdown",
   "metadata": {},
   "source": [
    "# Exercise\n",
    "## Question"
   ]
  },
  {
   "cell_type": "code",
   "execution_count": 2,
   "metadata": {},
   "outputs": [
    {
     "name": "stdout",
     "output_type": "stream",
     "text": [
      "sorted list is: [2, 2, 4, 34, 37, 45, 46, 49, 55, 56, 367, 464]\n"
     ]
    }
   ],
   "source": [
    "def Lomuto_Partition(list,start,end):\n",
    "    pivot=end\n",
    "    i=j=start\n",
    "    while j<end:\n",
    "        while list[pivot]>list[i]:\n",
    "            i+=1\n",
    "            j+=1\n",
    "        while list[pivot]<list[j]:\n",
    "            j+=1\n",
    "\n",
    "        if i<j:\n",
    "            list[i],list[j]=list[j],list[i]\n",
    "    return i\n",
    "\n",
    "def Quick_sort(list,start,end):\n",
    "    if start<end:\n",
    "        PI=Lomuto_Partition(list,start,end)\n",
    "        Quick_sort(list,start,PI-1)\n",
    "        Quick_sort(list,PI+1,end)\n",
    "    \n",
    "    return list\n",
    "\n",
    "if __name__=='__main__':\n",
    "    list=[464,46,45,367,37,49,55,4,34,2,56,2]\n",
    "    print(\"sorted list is:\",Quick_sort(list,0,len(list)-1))"
   ]
  },
  {
   "cell_type": "markdown",
   "metadata": {},
   "source": [
    "### OR"
   ]
  },
  {
   "cell_type": "code",
   "execution_count": 1,
   "metadata": {},
   "outputs": [
    {
     "name": "stdout",
     "output_type": "stream",
     "text": [
      "sorted list is: [1, 2, 3, 4, 7, 13, 23, 27, 45, 65, 75, 87]\n"
     ]
    }
   ],
   "source": [
    "def Lomuto_Partition(list,start,end):\n",
    "    pivot=end\n",
    "    i=j=start\n",
    "    while j<end:\n",
    "        if list[pivot]>=list[j]:\n",
    "            list[i],list[j]=list[j],list[i]\n",
    "            i+=1\n",
    "        j+=1\n",
    "\n",
    "    list[i],list[end]=list[end],list[i]\n",
    "    \n",
    "    return i\n",
    "\n",
    "def Quick_sort(list,start,end):\n",
    "    if start<end:\n",
    "        PI=Lomuto_Partition(list,start,end)\n",
    "        Quick_sort(list,start,PI-1)\n",
    "        Quick_sort(list,PI+1,end)\n",
    "    \n",
    "    return list\n",
    "\n",
    "if __name__=='__main__':\n",
    "    list=[1,4,2,45,7,3,87,23,65,75,13,27]\n",
    "    print(\"sorted list is:\",Quick_sort(list,0,len(list)-1))"
   ]
  }
 ],
 "metadata": {
  "kernelspec": {
   "display_name": "Python 3.8.10 64-bit",
   "language": "python",
   "name": "python3"
  },
  "language_info": {
   "codemirror_mode": {
    "name": "ipython",
    "version": 3
   },
   "file_extension": ".py",
   "mimetype": "text/x-python",
   "name": "python",
   "nbconvert_exporter": "python",
   "pygments_lexer": "ipython3",
   "version": "3.8.10"
  },
  "orig_nbformat": 4,
  "vscode": {
   "interpreter": {
    "hash": "494deeb4eea7fb63b62f74ba02ace728543e0003fbb675bfec79f4f4980c3f04"
   }
  }
 },
 "nbformat": 4,
 "nbformat_minor": 2
}
