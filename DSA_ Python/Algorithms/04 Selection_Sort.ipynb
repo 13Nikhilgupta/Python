{
 "cells": [
  {
   "cell_type": "markdown",
   "metadata": {},
   "source": [
    "# Selection Sort Implementation"
   ]
  },
  {
   "cell_type": "code",
   "execution_count": 6,
   "metadata": {},
   "outputs": [
    {
     "name": "stdout",
     "output_type": "stream",
     "text": [
      "sorted list is: [1, 2, 3, 4, 7, 13, 23, 27, 45, 65, 75, 87]\n"
     ]
    }
   ],
   "source": [
    "def Selection_sort(list):\n",
    "    size=len(list)\n",
    "    for i in range(size-1):\n",
    "        min=i\n",
    "        for j in range(i+1,size):\n",
    "            if list[j]<list[min]:\n",
    "                min=j\n",
    "        if min!=i:\n",
    "            list[min],list[i]=list[i],list[min]\n",
    "\n",
    "    return list\n",
    "\n",
    "if __name__=='__main__':\n",
    "    list=[1,4,2,45,7,3,87,23,65,75,13,27]\n",
    "\n",
    "    print(\"sorted list is:\",Selection_sort(list))"
   ]
  },
  {
   "cell_type": "markdown",
   "metadata": {},
   "source": [
    "# Exercise\n",
    "## Question"
   ]
  },
  {
   "cell_type": "code",
   "execution_count": 10,
   "metadata": {},
   "outputs": [
    {
     "name": "stdout",
     "output_type": "stream",
     "text": [
      "sorted list is:\n",
      "{'FName': 'Abhishek', 'LName': 'Gupta'}\n",
      "{'FName': 'Aditya', 'LName': 'Mishra'}\n",
      "{'FName': 'Ajay', 'LName': 'Bhatnagar'}\n",
      "{'FName': 'Harshit', 'LName': 'Pal'}\n",
      "{'FName': 'Harshit', 'LName': 'Singh'}\n",
      "{'FName': 'Nikhil', 'LName': 'Chaurasia'}\n",
      "{'FName': 'Nikhil', 'LName': 'Gupta'}\n",
      "{'FName': 'Nikhil', 'LName': 'Yadav'}\n",
      "{'FName': 'Nitin', 'LName': 'Kant'}\n"
     ]
    }
   ],
   "source": [
    "def Selection_sort_Pref(list,Pref):\n",
    "    for p in Pref[-1::-1]:\n",
    "        size=len(list)\n",
    "        for i in range(size-1):\n",
    "            min=i\n",
    "            for j in range(i+1,size):\n",
    "                if list[j][p]<list[min][p]:\n",
    "                    min=j\n",
    "            if min!=i:\n",
    "                list[min],list[i]=list[i],list[min]\n",
    "\n",
    "    #return list\n",
    "\n",
    "if __name__=='__main__':\n",
    "    list=[{'FName':\"Nikhil\",'LName':\"Gupta\"},\n",
    "    {'FName':\"Abhishek\",'LName':\"Gupta\"},\n",
    "    {'FName':\"Ajay\",'LName':\"Bhatnagar\"},\n",
    "    {'FName':\"Nitin\",'LName':\"Kant\"},\n",
    "    {'FName':\"Aditya\",'LName':\"Mishra\"},\n",
    "    {'FName':\"Nikhil\",'LName':\"Yadav\"},\n",
    "    {'FName':\"Nikhil\",'LName':\"Chaurasia\"},\n",
    "    {'FName':\"Harshit\",'LName':\"Pal\"},\n",
    "    {'FName':\"Harshit\",'LName':\"Singh\"}]\n",
    "\n",
    "    Selection_sort_Pref(list,['FName','LName'])\n",
    "    print(\"sorted list is:\",*list,sep=\"\\n\")"
   ]
  }
 ],
 "metadata": {
  "kernelspec": {
   "display_name": "Python 3.8.10 64-bit",
   "language": "python",
   "name": "python3"
  },
  "language_info": {
   "codemirror_mode": {
    "name": "ipython",
    "version": 3
   },
   "file_extension": ".py",
   "mimetype": "text/x-python",
   "name": "python",
   "nbconvert_exporter": "python",
   "pygments_lexer": "ipython3",
   "version": "3.8.10"
  },
  "orig_nbformat": 4,
  "vscode": {
   "interpreter": {
    "hash": "494deeb4eea7fb63b62f74ba02ace728543e0003fbb675bfec79f4f4980c3f04"
   }
  }
 },
 "nbformat": 4,
 "nbformat_minor": 2
}
