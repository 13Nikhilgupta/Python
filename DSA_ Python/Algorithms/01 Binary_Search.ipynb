{
 "cells": [
  {
   "cell_type": "markdown",
   "metadata": {},
   "source": [
    "# Binary Search Implementation"
   ]
  },
  {
   "cell_type": "code",
   "execution_count": 7,
   "metadata": {},
   "outputs": [
    {
     "name": "stdout",
     "output_type": "stream",
     "text": [
      "no. present at index: 0\n",
      "no. present at index: 6\n"
     ]
    }
   ],
   "source": [
    "def Binary_Search(list,number):\n",
    "    left=0\n",
    "    right=len(list)-1\n",
    "\n",
    "    while left<=right:\n",
    "        mid=(left+right)//2\n",
    "        mid_no=list[mid]\n",
    "\n",
    "        if mid_no==number:\n",
    "            return mid\n",
    "\n",
    "        if number>mid_no:\n",
    "            left=mid+1\n",
    "\n",
    "        else:\n",
    "            right=mid-1\n",
    "        \n",
    "    return (\"no. not present in list\")\n",
    "\n",
    "def Binary_Search_Recursive(list,number,left,right):\n",
    "    if left>right:\n",
    "        return(\"no. not found\")\n",
    "    mid=(left+right)//2\n",
    "    mid_no=list[mid]\n",
    "\n",
    "    if mid_no==number:\n",
    "        return mid\n",
    "\n",
    "    if number>mid_no:\n",
    "        left=mid+1\n",
    "    else:\n",
    "        right=mid-1\n",
    "\n",
    "    return Binary_Search_Recursive(list,number,left,right)\n",
    "\n",
    "   \n",
    "if __name__=='__main__':\n",
    "    list=[12,15,17,19,21,45,67]\n",
    "\n",
    "    index=Binary_Search(list,12)\n",
    "    print(\"no. present at index:\",index)\n",
    "    index=Binary_Search_Recursive(list,67,0,len(list)-1)\n",
    "    print(\"no. present at index:\",index)"
   ]
  },
  {
   "cell_type": "markdown",
   "metadata": {},
   "source": [
    "# Exercise\n",
    "## Question"
   ]
  },
  {
   "cell_type": "code",
   "execution_count": 2,
   "metadata": {},
   "outputs": [
    {
     "name": "stdout",
     "output_type": "stream",
     "text": [
      "no. present at index: [5, 6, 7]\n"
     ]
    }
   ],
   "source": [
    "def Binary_Search_Recursive(list,number,left,right):\n",
    "    if left>right:\n",
    "        return(\"no. not found\")\n",
    "    mid=(left+right)//2\n",
    "    mid_no=list[mid]\n",
    "\n",
    "    if mid_no==number:\n",
    "        return mid\n",
    "\n",
    "\n",
    "    if number>mid_no:\n",
    "        left=mid+1\n",
    "    else:\n",
    "        right=mid-1\n",
    "\n",
    "    return Binary_Search_Recursive(list,number,left,right)\n",
    "\n",
    "def Search_Indices(list,number):\n",
    "    index=Binary_Search_Recursive(list,number,0,len(list)-1)\n",
    "\n",
    "    indices=[index]\n",
    "    i=index+1\n",
    "    while i<len(list):\n",
    "        if list[i]==number:\n",
    "            indices.append(i)\n",
    "        i+=1\n",
    "\n",
    "    i=index-1\n",
    "    while i>=0:\n",
    "        if list[i]==number:\n",
    "            indices.append(i)\n",
    "        i-=1\n",
    "\n",
    "    return sorted(indices)\n",
    "\n",
    "   \n",
    "if __name__=='__main__':\n",
    "    list=[1,4,6,9,11,15,15,15,17,21,34,34,56]\n",
    "    indices=Search_Indices(list,15)\n",
    "    print(\"no. present at index:\",indices)"
   ]
  }
 ],
 "metadata": {
  "kernelspec": {
   "display_name": "Python 3.8.10 64-bit",
   "language": "python",
   "name": "python3"
  },
  "language_info": {
   "codemirror_mode": {
    "name": "ipython",
    "version": 3
   },
   "file_extension": ".py",
   "mimetype": "text/x-python",
   "name": "python",
   "nbconvert_exporter": "python",
   "pygments_lexer": "ipython3",
   "version": "3.8.10"
  },
  "orig_nbformat": 4,
  "vscode": {
   "interpreter": {
    "hash": "494deeb4eea7fb63b62f74ba02ace728543e0003fbb675bfec79f4f4980c3f04"
   }
  }
 },
 "nbformat": 4,
 "nbformat_minor": 2
}
