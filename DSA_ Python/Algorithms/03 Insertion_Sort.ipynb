{
 "cells": [
  {
   "cell_type": "markdown",
   "metadata": {},
   "source": [
    "# Insertion Sort Implementation"
   ]
  },
  {
   "cell_type": "code",
   "execution_count": 8,
   "metadata": {},
   "outputs": [
    {
     "name": "stdout",
     "output_type": "stream",
     "text": [
      "sorted list is: [1, 2, 3, 4, 7, 13, 23, 27, 45, 65, 75, 87]\n"
     ]
    }
   ],
   "source": [
    "def Insertion_sort(list):\n",
    "    size=len(list)\n",
    "    for i in range(1,size):\n",
    "        temp=list[i]\n",
    "        j=i-1\n",
    "        while j>=0 and list[j]>temp:\n",
    "            list[j+1]=list[j]\n",
    "            j-=1\n",
    "\n",
    "        list[j+1]=temp\n",
    "        \n",
    "    return list\n",
    "\n",
    "if __name__=='__main__':\n",
    "    list=[1,4,2,45,7,3,87,23,65,75,13,27]\n",
    "\n",
    "    print(\"sorted list is:\",Insertion_sort(list))"
   ]
  },
  {
   "cell_type": "markdown",
   "metadata": {},
   "source": [
    "# Exercise\n",
    "## Question"
   ]
  },
  {
   "cell_type": "code",
   "execution_count": 7,
   "metadata": {},
   "outputs": [
    {
     "name": "stdout",
     "output_type": "stream",
     "text": [
      "2.0\n",
      "1.5\n",
      "2.0\n",
      "3.5\n",
      "2.0\n",
      "2.0\n",
      "2.0\n"
     ]
    }
   ],
   "source": [
    "def Median_sorted_list(list):\n",
    "    size=len(list)\n",
    "    for i in range(1,size):\n",
    "        median(i)\n",
    "        temp=list[i]\n",
    "        j=i-1\n",
    "        while j>=0 and list[j]>temp:\n",
    "            list[j+1]=list[j]\n",
    "            j-=1\n",
    "\n",
    "        list[j+1]=temp\n",
    "    \n",
    "    median(i+1)\n",
    "\n",
    "def median(i):\n",
    "    if (i-1)%2==0:\n",
    "            m=(i-1)//2\n",
    "            print(float(list[m]))\n",
    "    else:\n",
    "        m1=(i-1)//2\n",
    "        m2=m1+1\n",
    "        print((list[m1]+list[m2])/2)\n",
    "\n",
    "if __name__=='__main__':\n",
    "    list=[2,1,5,7,2,0,5]\n",
    "    \n",
    "    Median_sorted_list(list)"
   ]
  }
 ],
 "metadata": {
  "kernelspec": {
   "display_name": "Python 3.8.10 64-bit",
   "language": "python",
   "name": "python3"
  },
  "language_info": {
   "codemirror_mode": {
    "name": "ipython",
    "version": 3
   },
   "file_extension": ".py",
   "mimetype": "text/x-python",
   "name": "python",
   "nbconvert_exporter": "python",
   "pygments_lexer": "ipython3",
   "version": "3.8.10"
  },
  "orig_nbformat": 4,
  "vscode": {
   "interpreter": {
    "hash": "494deeb4eea7fb63b62f74ba02ace728543e0003fbb675bfec79f4f4980c3f04"
   }
  }
 },
 "nbformat": 4,
 "nbformat_minor": 2
}
