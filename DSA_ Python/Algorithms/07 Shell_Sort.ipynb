{
 "cells": [
  {
   "cell_type": "markdown",
   "metadata": {},
   "source": [
    "# Shell Sort Implementation"
   ]
  },
  {
   "cell_type": "code",
   "execution_count": 16,
   "metadata": {},
   "outputs": [
    {
     "name": "stdout",
     "output_type": "stream",
     "text": [
      "Sorted list is: [2, 2, 4, 34, 37, 45, 46, 49, 55, 56, 367, 464]\n"
     ]
    }
   ],
   "source": [
    "def Shell_sort(list):\n",
    "    size=len(list)\n",
    "    gap=size//2\n",
    "    while gap>=1:\n",
    "\n",
    "        for i in range(gap,size):\n",
    "\n",
    "            j=i-gap\n",
    "            while j>=0:\n",
    "                if list[j]>list[j+gap]:\n",
    "                    list[j],list[j+gap]=list[j+gap],list[j]\n",
    "\n",
    "                j-=gap\n",
    "        \n",
    "        gap//=2\n",
    "\n",
    "    return list\n",
    "if __name__=='__main__':\n",
    "    list=[464,46,45,367,37,49,55,4,34,2,56,2]\n",
    "    print(\"Sorted list is:\",Shell_sort(list))"
   ]
  },
  {
   "cell_type": "markdown",
   "metadata": {},
   "source": [
    "# Exercise\n",
    "# Question"
   ]
  },
  {
   "cell_type": "code",
   "execution_count": 36,
   "metadata": {},
   "outputs": [
    {
     "name": "stdout",
     "output_type": "stream",
     "text": [
      "Sorted list is: [0, 1, 2, 3, 5, 7, 8, 9]\n"
     ]
    }
   ],
   "source": [
    "def Shell_sort(l):\n",
    "    size=len(l)\n",
    "    gap=size//2\n",
    "    while gap>=1:\n",
    "\n",
    "        copy_index=[]\n",
    "        for i in range(gap,size):\n",
    "\n",
    "            j=i-gap\n",
    "            while j>=0:\n",
    "                if l[j]>l[j+gap]:\n",
    "                    l[j],l[j+gap]=l[j+gap],l[j]\n",
    "\n",
    "                if l[j]==l[j+gap]:\n",
    "                    if j not in copy_index:\n",
    "                        copy_index.append(j)\n",
    "\n",
    "                j-=gap\n",
    "        \n",
    "        gap//=2\n",
    "\n",
    "    for i in copy_index[-1::-1]:\n",
    "        del l[i]\n",
    "\n",
    "    return l\n",
    "if __name__=='__main__':\n",
    "    l=[2,1,5,7,2,0,5,1,2,9,5,8,3]\n",
    "    print(\"Sorted list is:\",Shell_sort(l))"
   ]
  }
 ],
 "metadata": {
  "kernelspec": {
   "display_name": "Python 3.8.10 64-bit",
   "language": "python",
   "name": "python3"
  },
  "language_info": {
   "codemirror_mode": {
    "name": "ipython",
    "version": 3
   },
   "file_extension": ".py",
   "mimetype": "text/x-python",
   "name": "python",
   "nbconvert_exporter": "python",
   "pygments_lexer": "ipython3",
   "version": "3.8.10"
  },
  "orig_nbformat": 4,
  "vscode": {
   "interpreter": {
    "hash": "494deeb4eea7fb63b62f74ba02ace728543e0003fbb675bfec79f4f4980c3f04"
   }
  }
 },
 "nbformat": 4,
 "nbformat_minor": 2
}
