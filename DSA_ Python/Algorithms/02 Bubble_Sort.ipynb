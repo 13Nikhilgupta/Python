{
 "cells": [
  {
   "cell_type": "markdown",
   "metadata": {},
   "source": [
    "# Bubble Sort Implementation"
   ]
  },
  {
   "cell_type": "code",
   "execution_count": 2,
   "metadata": {},
   "outputs": [
    {
     "name": "stdout",
     "output_type": "stream",
     "text": [
      "sorted list is: [1, 2, 3, 4, 7, 13, 23, 27, 45, 65, 75, 87]\n"
     ]
    }
   ],
   "source": [
    "def Bubble_sort(list):\n",
    "    size=len(list)\n",
    "    for i in range(size-1):\n",
    "        flag=False\n",
    "        for j in range(size-1-i):\n",
    "            if list[j]>list[j+1]:\n",
    "                list[j],list[j+1]=list[j+1],list[j]\n",
    "                flag=True\n",
    "\n",
    "        if not flag:\n",
    "            break\n",
    "\n",
    "    return list\n",
    "\n",
    "if __name__=='__main__':\n",
    "    list=[1,4,2,45,7,3,87,23,65,75,13,27]\n",
    "\n",
    "    print(\"sorted list is:\",Bubble_sort(list))"
   ]
  },
  {
   "cell_type": "markdown",
   "metadata": {},
   "source": [
    "# Exercise\n",
    "## Question"
   ]
  },
  {
   "cell_type": "code",
   "execution_count": 3,
   "metadata": {},
   "outputs": [
    {
     "name": "stdout",
     "output_type": "stream",
     "text": [
      "sorted list is:\n",
      " [{'Name': 'Nitin', 'Amount': 165}, {'Name': 'Ajay', 'Amount': 215}, {'Name': 'Nikhil', 'Amount': 235}, {'Name': 'Abhishek', 'Amount': 253}, {'Name': 'Aditya', 'Amount': 464}]\n",
      "sorted list is:\n",
      " [{'Name': 'Abhishek', 'Amount': 253}, {'Name': 'Aditya', 'Amount': 464}, {'Name': 'Ajay', 'Amount': 215}, {'Name': 'Nikhil', 'Amount': 235}, {'Name': 'Nitin', 'Amount': 165}]\n"
     ]
    }
   ],
   "source": [
    "def Bubble_sort_dic(list,key='Name'):\n",
    "    size=len(list)\n",
    "    for i in range(size-1):\n",
    "        flag=False\n",
    "        for j in range(size-1-i):\n",
    "            if list[j][key]>list[j+1][key]:\n",
    "                temp=list[j]\n",
    "                list[j]=list[j+1]\n",
    "                list[j+1]=temp\n",
    "                flag=True\n",
    "\n",
    "        if not flag:\n",
    "            break\n",
    "\n",
    "    return list\n",
    "\n",
    "if __name__=='__main__':\n",
    "    list=[{'Name':\"Nikhil\",'Amount':235},\n",
    "    {'Name':\"Abhishek\",'Amount':253},\n",
    "    {'Name':\"Ajay\",'Amount':215},\n",
    "    {'Name':\"Nitin\",'Amount':165},\n",
    "    {'Name':\"Aditya\",'Amount':464}]\n",
    "\n",
    "    print(\"sorted list is:\\n\",Bubble_sort_dic(list,'Amount'))\n",
    "    print(\"sorted list is:\\n\",Bubble_sort_dic(list,'Name'))"
   ]
  }
 ],
 "metadata": {
  "kernelspec": {
   "display_name": "Python 3.8.10 64-bit",
   "language": "python",
   "name": "python3"
  },
  "language_info": {
   "codemirror_mode": {
    "name": "ipython",
    "version": 3
   },
   "file_extension": ".py",
   "mimetype": "text/x-python",
   "name": "python",
   "nbconvert_exporter": "python",
   "pygments_lexer": "ipython3",
   "version": "3.8.10"
  },
  "orig_nbformat": 4,
  "vscode": {
   "interpreter": {
    "hash": "494deeb4eea7fb63b62f74ba02ace728543e0003fbb675bfec79f4f4980c3f04"
   }
  }
 },
 "nbformat": 4,
 "nbformat_minor": 2
}
