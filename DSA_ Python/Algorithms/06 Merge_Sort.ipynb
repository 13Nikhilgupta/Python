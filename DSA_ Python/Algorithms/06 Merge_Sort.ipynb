{
 "cells": [
  {
   "cell_type": "markdown",
   "metadata": {},
   "source": [
    "# Merge Sort Implementation"
   ]
  },
  {
   "cell_type": "code",
   "execution_count": 17,
   "metadata": {},
   "outputs": [
    {
     "name": "stdout",
     "output_type": "stream",
     "text": [
      "Sorted list is: [2, 2, 4, 34, 37, 45, 46, 49, 55, 56, 367, 464]\n"
     ]
    }
   ],
   "source": [
    "def Merge(left,right,list):\n",
    "    l=len(left)\n",
    "    r=len(right)\n",
    "\n",
    "    i=j=k=0\n",
    "\n",
    "    while i<l and j<r:\n",
    "        if left[i]<=right[j]:\n",
    "            list[k]=left[i]\n",
    "            i+=1\n",
    "\n",
    "        else:\n",
    "            list[k]=right[j]\n",
    "            j+=1\n",
    "        \n",
    "        k+=1\n",
    "\n",
    "    while i<l:\n",
    "        list[k]=left[i]\n",
    "        i+=1\n",
    "        k+=1\n",
    "    while j<r:\n",
    "        list[k]=right[j]\n",
    "        j+=1\n",
    "        k+=1\n",
    "\n",
    "def Merge_sort(list):\n",
    "    if len(list)<=1:\n",
    "        return list\n",
    "    \n",
    "    mid=len(list)//2\n",
    "\n",
    "    left=list[:mid]\n",
    "    right=list[mid:]\n",
    "\n",
    "    left=Merge_sort(list[:mid])\n",
    "    right=Merge_sort(list[mid:])\n",
    "    Merge(left,right,list)\n",
    "\n",
    "    return list\n",
    "\n",
    "if __name__=='__main__':\n",
    "    list=[464,46,45,367,37,49,55,4,34,2,56,2]\n",
    "    print(\"Sorted list is:\",Merge_sort(list))"
   ]
  },
  {
   "cell_type": "markdown",
   "metadata": {},
   "source": [
    "# Exercise\n",
    "## Question"
   ]
  },
  {
   "cell_type": "code",
   "execution_count": 27,
   "metadata": {},
   "outputs": [
    {
     "name": "stdout",
     "output_type": "stream",
     "text": [
      "sorted list is:\n",
      "{'Name': 'Aditya', 'Amount': 464}\n",
      "{'Name': 'Abhishek', 'Amount': 253}\n",
      "{'Name': 'Nikhil', 'Amount': 235}\n",
      "{'Name': 'Ajay', 'Amount': 215}\n",
      "{'Name': 'Nitin', 'Amount': 165}\n",
      "sorted list is:\n",
      "{'Name': 'Abhishek', 'Amount': 253}\n",
      "{'Name': 'Aditya', 'Amount': 464}\n",
      "{'Name': 'Ajay', 'Amount': 215}\n",
      "{'Name': 'Nikhil', 'Amount': 235}\n",
      "{'Name': 'Nitin', 'Amount': 165}\n"
     ]
    }
   ],
   "source": [
    "def Merge(left,right,list,key,order):\n",
    "    l=len(left)\n",
    "    r=len(right)\n",
    "\n",
    "    i=j=k=0\n",
    "\n",
    "    if order=='dsc':\n",
    "        while i<l and j<r:\n",
    "            if left[i][key]>=right[j][key]:\n",
    "                list[k]=left[i]\n",
    "                i+=1\n",
    "\n",
    "            else:\n",
    "                list[k]=right[j]\n",
    "                j+=1\n",
    "            \n",
    "            k+=1\n",
    "\n",
    "    else:\n",
    "        while i<l and j<r:\n",
    "            if left[i][key]<=right[j][key]:\n",
    "                list[k]=left[i]\n",
    "                i+=1\n",
    "\n",
    "            else:\n",
    "                list[k]=right[j]\n",
    "                j+=1\n",
    "            \n",
    "            k+=1\n",
    "\n",
    "    while i<l:\n",
    "        list[k]=left[i]\n",
    "        i+=1\n",
    "        k+=1\n",
    "    while j<r:\n",
    "        list[k]=right[j]\n",
    "        j+=1\n",
    "        k+=1\n",
    "\n",
    "def Merge_sort(list,key,order):\n",
    "    if len(list)<=1:\n",
    "        return list\n",
    "    \n",
    "    mid=len(list)//2\n",
    "\n",
    "    left=list[:mid]\n",
    "    right=list[mid:]\n",
    "\n",
    "    left=Merge_sort(list[:mid],key,order)\n",
    "    right=Merge_sort(list[mid:],key,order)\n",
    "    Merge(left,right,list,key,order)\n",
    "\n",
    "    return list\n",
    "\n",
    "if __name__=='__main__':\n",
    "    list=[{'Name':\"Nikhil\",'Amount':235},\n",
    "    {'Name':\"Abhishek\",'Amount':253},\n",
    "    {'Name':\"Ajay\",'Amount':215},\n",
    "    {'Name':\"Nitin\",'Amount':165},\n",
    "    {'Name':\"Aditya\",'Amount':464}]\n",
    "\n",
    "    print(\"sorted list is:\",*Merge_sort(list,'Amount',order='dsc'),sep='\\n')\n",
    "    print(\"sorted list is:\",*Merge_sort(list,'Name',order='asc'),sep=\"\\n\")"
   ]
  }
 ],
 "metadata": {
  "kernelspec": {
   "display_name": "Python 3.8.10 64-bit",
   "language": "python",
   "name": "python3"
  },
  "language_info": {
   "codemirror_mode": {
    "name": "ipython",
    "version": 3
   },
   "file_extension": ".py",
   "mimetype": "text/x-python",
   "name": "python",
   "nbconvert_exporter": "python",
   "pygments_lexer": "ipython3",
   "version": "3.8.10"
  },
  "orig_nbformat": 4,
  "vscode": {
   "interpreter": {
    "hash": "494deeb4eea7fb63b62f74ba02ace728543e0003fbb675bfec79f4f4980c3f04"
   }
  }
 },
 "nbformat": 4,
 "nbformat_minor": 2
}
