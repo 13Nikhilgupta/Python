{
 "cells": [
  {
   "cell_type": "markdown",
   "metadata": {},
   "source": [
    "#           \"Some codes from a Python course by Simplilearn\""
   ]
  },
  {
   "cell_type": "markdown",
   "metadata": {},
   "source": [
    "# Printing Short Name Of Person"
   ]
  },
  {
   "cell_type": "code",
   "execution_count": 2,
   "metadata": {},
   "outputs": [
    {
     "name": "stdout",
     "output_type": "stream",
     "text": [
      "R.K.Sinha\n"
     ]
    }
   ],
   "source": [
    "Name=input(\"Enter Name of Person\")\n",
    "str=Name[0]+\".\"\n",
    "print(str,end=\"\")\n",
    "MN=0\n",
    "for i in Name:\n",
    "    if i.isspace()==True:\n",
    "        break\n",
    "    else:\n",
    "         MN+=1\n",
    "str=Name[MN+1]+\".\"\n",
    "print(str,end=\"\")\n",
    "c=0\n",
    "LN=0\n",
    "for i in Name:\n",
    "    if i.isspace()==True:\n",
    "        c+=1\n",
    "        if c==2:\n",
    "            break\n",
    "    else:\n",
    "         LN+=1\n",
    "str=Name[LN+2::]\n",
    "print(str)"
   ]
  },
  {
   "cell_type": "markdown",
   "metadata": {},
   "source": [
    "# sum of 2 matrix using for loop"
   ]
  },
  {
   "cell_type": "code",
   "execution_count": 4,
   "metadata": {},
   "outputs": [
    {
     "name": "stdout",
     "output_type": "stream",
     "text": [
      "[[2, 4, 6], [8, 10, 12], [14, 16, 18]]\n"
     ]
    }
   ],
   "source": [
    "r=int(input(\"enter no of rows\"))\n",
    "c=int(input(\"enter no of columns\"))\n",
    "x=[]\n",
    "y=[]\n",
    "val=[]\n",
    "for i in  range(0,r):\n",
    "    for j in range(0,c):\n",
    "        val.insert(j,int(input(\"enter value for %d * %d\" %(i,j))))    \n",
    "    x.insert(i,val)\n",
    "    val=[]\n",
    "for i in  range(0,r):\n",
    "    for j in range(0,c):\n",
    "        val.insert(j,int(input(\"enter value for %d * %d\" %(i,j))))\n",
    "    y.insert(i,val)\n",
    "    val=[]        \n",
    "sum=[]\n",
    "for i in  range(0,r):\n",
    "    for j in range(0,c):\n",
    "        val.insert(j,x[i][j]+y[i][j])\n",
    "    sum.insert(i,val)\n",
    "    val=[]\n",
    "print(sum)     \n"
   ]
  },
  {
   "cell_type": "markdown",
   "metadata": {},
   "source": [
    "# reversing no. using while loop "
   ]
  },
  {
   "cell_type": "code",
   "execution_count": 1,
   "metadata": {},
   "outputs": [
    {
     "name": "stdout",
     "output_type": "stream",
     "text": [
      "987654321\n"
     ]
    }
   ],
   "source": [
    "n=int(input(\"enter any number\"))\n",
    "rev=0\n",
    "while n%10!=0:\n",
    "    c=n%10\n",
    "    rev=rev*10+c\n",
    "    n=n//10\n",
    "print(rev)"
   ]
  },
  {
   "cell_type": "markdown",
   "metadata": {},
   "source": [
    "# guessin random 4 digit no."
   ]
  },
  {
   "cell_type": "code",
   "execution_count": 3,
   "metadata": {},
   "outputs": [
    {
     "name": "stdout",
     "output_type": "stream",
     "text": [
      "7369\n",
      "0 digit guessed right\n",
      "congo, u guessed right\n"
     ]
    }
   ],
   "source": [
    "import random\n",
    "nump=random.randint(1000,9999)\n",
    "print(nump)\n",
    "n=int(input(\"enter any 4 digit no. or enter 10 to quit\"))\n",
    "while n!=10:\n",
    "    num=nump\n",
    "    count=0\n",
    "    while num%10:\n",
    "        numc=num%10\n",
    "        nc=n%10\n",
    "        num=num//10\n",
    "        n=n//10\n",
    "        if numc==nc:\n",
    "            count+=1\n",
    "    if count==4:\n",
    "         print(\"congo, u guessed right\")\n",
    "         break\n",
    "    else:\n",
    "        print(\"%d digit guessed right\" %count)\n",
    "        n=int(input(\"enter any 4 digit no. or enter 10 to quit\"))\n",
    "else :\n",
    "    print(\"u quit\")"
   ]
  },
  {
   "cell_type": "markdown",
   "metadata": {},
   "source": [
    "# class and object"
   ]
  },
  {
   "cell_type": "code",
   "execution_count": 26,
   "metadata": {},
   "outputs": [
    {
     "name": "stdout",
     "output_type": "stream",
     "text": [
      "hi i'm  nidhi\n",
      "nidhi is eligible for vote\n",
      "hi i'm  nalini\n",
      "nalini  is not eligible for vote\n",
      "hi i'm  nikhil\n",
      "nikhil is eligible for vote\n"
     ]
    }
   ],
   "source": [
    "class person:\n",
    "    def __init__(self):\n",
    "        self.name=\"nikk\"\n",
    "        self.gender=\"male\"\n",
    "        self.age=22\n",
    "\n",
    "    def __init__(self,n,g,a):\n",
    "        self.name=n\n",
    "        self.gender=g\n",
    "        self.age=a\n",
    "    def talk(self):\n",
    "        print(\"hi i'm \",self.name)\n",
    "    def vote(self):\n",
    "        if self.age<18 :\n",
    "            print(self.name,\" is not eligible for vote\")\n",
    "        else:\n",
    "            print(self.name,\"is eligible for vote\")\n",
    "\n",
    "o1=person(\"nidhi\",\"female\",23)\n",
    "o2=person(\"nalini\",\"female\",16)\n",
    "o3=person(\"nikhil\",\"male\",22)\n",
    "o1.talk()\n",
    "o1.vote()\n",
    "o2.talk()\n",
    "o2.vote()\n",
    "o3.talk()\n",
    "o3.vote()"
   ]
  },
  {
   "cell_type": "markdown",
   "metadata": {},
   "source": [
    "# Inheritence"
   ]
  },
  {
   "cell_type": "code",
   "execution_count": 1,
   "metadata": {},
   "outputs": [
    {
     "name": "stdout",
     "output_type": "stream",
     "text": [
      "maximum speed is 155\n",
      "maximum speed is 150\n"
     ]
    }
   ],
   "source": [
    "class car():\n",
    "    def __init__(self,year,speed):\n",
    "        self.year=year\n",
    "        self.speed=speed\n",
    "    def getspeed(self):\n",
    "        print(\"maximum speed is\", self.speed)\n",
    "    def setspeed(self,speed):\n",
    "        self.speed=speed\n",
    "\n",
    "BMW=car(2018,155)\n",
    "FORD=car(2015,135)\n",
    "\n",
    "class sedan(car):    #child class\n",
    "    def acc(self):\n",
    "        print(\"137\")\n",
    "    def opentrunk(self):\n",
    "        print(\"trunk has been opened\")\n",
    "\n",
    "class suv(car):       #child class\n",
    "    def acc(self):\n",
    "        print(\"127\")\n",
    "\n",
    "Honda=sedan(2018,150)\n",
    "BMW.getspeed()\n",
    "Honda.getspeed()"
   ]
  },
  {
   "cell_type": "markdown",
   "metadata": {},
   "source": [
    "# Polymorphism"
   ]
  },
  {
   "cell_type": "code",
   "execution_count": 5,
   "metadata": {},
   "outputs": [
    {
     "name": "stdout",
     "output_type": "stream",
     "text": [
      "Scoda : 150\n",
      "XUV500 : 180\n"
     ]
    }
   ],
   "source": [
    "class car:\n",
    "    def __init__(self,name):\n",
    "        self.name=name\n",
    "\n",
    "class sedan(car):\n",
    "    def acc(self):\n",
    "        print(\"150\")\n",
    "\n",
    "class suv(car):\n",
    "    def acc(self):\n",
    "        print(\"180\")\n",
    "\n",
    "obl=[sedan(\"Scoda\"),suv(\"XUV500\")]\n",
    "\n",
    "for i in obl:\n",
    "    print(i.name,\": \",end=\"\")\n",
    "    i.acc()"
   ]
  },
  {
   "cell_type": "markdown",
   "metadata": {},
   "source": [
    "# Multithreading"
   ]
  },
  {
   "cell_type": "code",
   "execution_count": 15,
   "metadata": {},
   "outputs": [
    {
     "name": "stdout",
     "output_type": "stream",
     "text": [
      "The number is 1\n",
      "the double of the no. is 2\n",
      "the square of the number is 1\n",
      "The number is 2\n",
      "the double of the no. is 4\n",
      "the square of the number is 4\n",
      "The number is 3\n",
      "the double of the no. is 6\n",
      "the square of the number is 9\n",
      "The number is 4\n",
      "the double of the no. is 8\n",
      "the square of the number is 16\n",
      "The number is 5\n",
      "the double of the no. is 10\n",
      "the square of the number is 25\n",
      "This Is The Main Thread\n"
     ]
    }
   ],
   "source": [
    "from threading import *\n",
    "import time\n",
    "class demo:\n",
    "    def num(self):\n",
    "        for i in range(1,6):\n",
    "            print (\"The number is\",i)\n",
    "            time.sleep(0.6)\n",
    "    def double(self):\n",
    "        for i in range(1,6):\n",
    "            print(\"the double of the no. is\",2*i)\n",
    "            time.sleep(0.6)\n",
    "    def square(self):\n",
    "        for i in range(1,6):\n",
    "            print(\"the square of the number is\", i*i)\n",
    "            time.sleep(0.6)\n",
    "\n",
    "ob=demo()\n",
    "t1=Thread(target=ob.num)\n",
    "t2=Thread(target=ob.double)\n",
    "t3=Thread(target=ob.square)\n",
    "\n",
    "t1.start()\n",
    "time.sleep(0.2)\n",
    "t2.start()\n",
    "time.sleep(0.2)\n",
    "t3.start()\n",
    "\n",
    "t1.join()\n",
    "t2.join()\n",
    "t3.join()\n",
    "\n",
    "print(\"This Is The Main Thread\")"
   ]
  },
  {
   "cell_type": "markdown",
   "metadata": {},
   "source": [
    "# OS Library"
   ]
  },
  {
   "cell_type": "code",
   "execution_count": 12,
   "metadata": {},
   "outputs": [
    {
     "name": "stdout",
     "output_type": "stream",
     "text": [
      "e:\\BCA\\Python\n",
      "e:\\BCA\\Python\\simplilearn.ipynb\n"
     ]
    }
   ],
   "source": [
    "import os\n",
    "\n",
    "def cwd():\n",
    "    cwd=os.getcwd()\n",
    "    print(cwd)\n",
    "\n",
    "def filepath(filename):\n",
    "    path=os.path.abspath((filename))\n",
    "    print(path)\n",
    "\n",
    "cwd()\n",
    "filename=\"simplilearn.ipynb\"\n",
    "filepath(filename)"
   ]
  },
  {
   "cell_type": "markdown",
   "metadata": {},
   "source": [
    "# Creating File"
   ]
  },
  {
   "cell_type": "code",
   "execution_count": 20,
   "metadata": {},
   "outputs": [
    {
     "name": "stdout",
     "output_type": "stream",
     "text": [
      "file created\n"
     ]
    }
   ],
   "source": [
    "from os import path\n",
    "\n",
    "def createfile(dest):\n",
    "    if not (path.isfile(dest)):\n",
    "        f=open(dest,'w')\n",
    "        f.write(\"Welcome to Python scripting , this file is created by me using OS library in Python\")\n",
    "        f.close()\n",
    "\n",
    "destination=\"E:\\BCA\\Python\\Swayam PY\\sample.txt\"\n",
    "\n",
    "createfile(destination)\n",
    "\n",
    "print(\"file created\")"
   ]
  },
  {
   "cell_type": "markdown",
   "metadata": {},
   "source": [
    "# Time Library"
   ]
  },
  {
   "cell_type": "code",
   "execution_count": 22,
   "metadata": {},
   "outputs": [
    {
     "name": "stdout",
     "output_type": "stream",
     "text": [
      "1659175456.7755861\n",
      "time.struct_time(tm_year=2022, tm_mon=7, tm_mday=30, tm_hour=15, tm_min=34, tm_sec=16, tm_wday=5, tm_yday=211, tm_isdst=0)\n",
      "2022\n",
      "Sat Jul 30 15:34:16 2022\n"
     ]
    }
   ],
   "source": [
    "import time\n",
    "\n",
    "clk=time.time()\n",
    "print(clk)\n",
    "localtime=time.localtime(clk)\n",
    "print(localtime)\n",
    "print(localtime.tm_year)\n",
    "\n",
    "print(time.ctime(clk))"
   ]
  },
  {
   "cell_type": "markdown",
   "metadata": {},
   "source": [
    "# SMTP Library"
   ]
  },
  {
   "cell_type": "code",
   "execution_count": 11,
   "metadata": {},
   "outputs": [
    {
     "name": "stdout",
     "output_type": "stream",
     "text": [
      "Logged In\n",
      "msg sent\n"
     ]
    }
   ],
   "source": [
    "import smtplib\n",
    "\n",
    "sender='<sender email>'\n",
    "receiver='receiver email'\n",
    "password=\"<password>\"\n",
    "message=\"\"\"Subject: SMTP check. \n",
    "\n",
    "This is the Test mail\n",
    "\n",
    "bro i sent this msg through using python code\"\"\"\n",
    "\n",
    "smtob=smtplib.SMTP('smtp.gmail.com',587)\n",
    "smtob.ehlo()\n",
    "smtob.starttls()\n",
    "smtob.login(sender,password)\n",
    "print(\"Logged In\")\n",
    "smtob.sendmail(sender,receiver,message)\n",
    "smtob.quit()\n",
    "print(\"msg sent\")"
   ]
  },
  {
   "cell_type": "markdown",
   "metadata": {},
   "source": [
    "# Web Scrapping"
   ]
  },
  {
   "cell_type": "code",
   "execution_count": null,
   "metadata": {},
   "outputs": [],
   "source": [
    "import pandas as pd\n",
    "import numpy as np\n",
    "import matplotlib.pyplot as plt\n",
    "\n",
    "%matplotlib inline\n",
    "\n",
    "from urllib.request import urlopen\n",
    "from bs4 import BeautifulSoup\n",
    "import re\n",
    "\n",
    "link=\"http://wwww.hubertiming.com/results/2018MLK\"     #open link\n",
    "html=openurl(link)\n",
    "\n",
    "soup=BeautifulSoup(html)\n",
    "\n",
    "title=soup.title\n",
    "print(title)\n",
    "print(title.text)\n"
   ]
  },
  {
   "cell_type": "code",
   "execution_count": null,
   "metadata": {},
   "outputs": [],
   "source": [
    "links=soup.find_all('a',href=True)\n",
    "for i in links:\n",
    "    print(i.get(\"href\"))"
   ]
  },
  {
   "cell_type": "code",
   "execution_count": null,
   "metadata": {},
   "outputs": [],
   "source": [
    "allrows=soup.find_all(\"tr\")\n",
    "print(allrows[:5])"
   ]
  },
  {
   "cell_type": "code",
   "execution_count": null,
   "metadata": {},
   "outputs": [],
   "source": [
    "allrows=soup.find_all(\"tr\")\n",
    "for row in allrows:\n",
    "    row_list=row.find_all(\"td\")\n",
    "print(row_list)\n",
    "for cell in row_list:\n",
    "    print(cell.text)"
   ]
  },
  {
   "cell_type": "code",
   "execution_count": null,
   "metadata": {},
   "outputs": [],
   "source": [
    "data=[]\n",
    "allrows=soup.find_all(\"tr\")\n",
    "for row in allrows:\n",
    "    row_list=row.find_all(\"td\")\n",
    "    datarow=[]\n",
    "    for cell in row_list:\n",
    "        datarow.append(cell.text)\n",
    "    data.append(datarow)\n",
    "print(data)"
   ]
  },
  {
   "cell_type": "code",
   "execution_count": null,
   "metadata": {},
   "outputs": [],
   "source": [
    "df=pd.DataFrame(data)\n",
    "print(df.head(3))\n",
    "print(df.tail(2))"
   ]
  },
  {
   "cell_type": "code",
   "execution_count": null,
   "metadata": {},
   "outputs": [],
   "source": [
    "header_list=[]\n",
    "col_headers=soup.find_all(\"th\")\n",
    "for col in col_headers:\n",
    "    header_list.append(col.text)\n",
    "print(header_list)"
   ]
  },
  {
   "cell_type": "code",
   "execution_count": null,
   "metadata": {},
   "outputs": [],
   "source": [
    "df.columns=header_list\n",
    "print(df.head())"
   ]
  },
  {
   "cell_type": "code",
   "execution_count": null,
   "metadata": {},
   "outputs": [],
   "source": [
    "df.info()"
   ]
  },
  {
   "cell_type": "code",
   "execution_count": null,
   "metadata": {},
   "outputs": [],
   "source": [
    "df2=df.dropna(how='any')\n",
    "df2.shape"
   ]
  },
  {
   "cell_type": "code",
   "execution_count": null,
   "metadata": {},
   "outputs": [],
   "source": [
    "df2['ChipTime_minutes']=pd.to_timedelta(df2['Chip Time'])\n",
    "df2['ChipTime_minutes']=df2['ChipTime_minutes'].astype('timedelta64[s]')/60\n",
    "print(df2[['ChipTime_minutes']].head())"
   ]
  },
  {
   "cell_type": "code",
   "execution_count": null,
   "metadata": {},
   "outputs": [],
   "source": [
    "df2['ChipTime_minutes']=pd.to_timedelta(df2['Chip Time'])\n",
    "df2['ChipTime_minutes']=df2['ChipTime_minutes'].astype('timedelta64[s]')/60\n",
    "print(df2[['Gender','ChipTime_minutes']].tail())"
   ]
  },
  {
   "cell_type": "code",
   "execution_count": null,
   "metadata": {},
   "outputs": [],
   "source": [
    "plt.bar(df2['Gender'],df2['ChipTime_minutes'])\n",
    "plt.xlabel('Gender')\n",
    "plt.ylabel('ChipTime_minutes')\n",
    "plt.title(\"comparision of avg. min. run by male and female\")"
   ]
  },
  {
   "cell_type": "code",
   "execution_count": null,
   "metadata": {},
   "outputs": [],
   "source": [
    "df2.describe(include=[np.number])"
   ]
  },
  {
   "cell_type": "code",
   "execution_count": null,
   "metadata": {},
   "outputs": [],
   "source": [
    "df2.boxplot(column='ChipTime_minutes',by='Gender')\n",
    "plt.ylable('Run time')"
   ]
  },
  {
   "cell_type": "code",
   "execution_count": null,
   "metadata": {},
   "outputs": [],
   "source": [
    "#age vs Chip Time in Minutes\n",
    "df2['Age_i']=round(pd.to_numeric(df2['Age'],error='coerce'))\n",
    "df2.dropna(how='any',inplace=True)\n",
    "\n",
    "plt.scatter(df2['ChipTime_minutes'],df2['Age_i'])\n",
    "plt.show()"
   ]
  }
 ],
 "metadata": {
  "kernelspec": {
   "display_name": "Python 3.8.10 64-bit",
   "language": "python",
   "name": "python3"
  },
  "language_info": {
   "codemirror_mode": {
    "name": "ipython",
    "version": 3
   },
   "file_extension": ".py",
   "mimetype": "text/x-python",
   "name": "python",
   "nbconvert_exporter": "python",
   "pygments_lexer": "ipython3",
   "version": "3.8.10"
  },
  "orig_nbformat": 4,
  "vscode": {
   "interpreter": {
    "hash": "494deeb4eea7fb63b62f74ba02ace728543e0003fbb675bfec79f4f4980c3f04"
   }
  }
 },
 "nbformat": 4,
 "nbformat_minor": 2
}
